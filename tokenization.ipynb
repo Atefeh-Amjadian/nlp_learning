{
 "cells": [
  {
   "cell_type": "markdown",
   "id": "c27190c8-26b7-49bc-873c-fac8a2fd30a8",
   "metadata": {},
   "source": [
    "# Text Tokenization with NLTK\n",
    "This notebook demonstrates basic text tokenization using the NLTK library in Python."
   ]
  },
  {
   "cell_type": "code",
   "execution_count": 5,
   "id": "bedda042-34b0-4944-9356-5a289da85f4a",
   "metadata": {
    "scrolled": true
   },
   "outputs": [
    {
     "name": "stderr",
     "output_type": "stream",
     "text": [
      "[nltk_data] Downloading package punkt_tab to\n",
      "[nltk_data]     C:\\Users\\Ati\\AppData\\Roaming\\nltk_data...\n",
      "[nltk_data]   Package punkt_tab is already up-to-date!\n"
     ]
    },
    {
     "data": {
      "text/plain": [
       "True"
      ]
     },
     "execution_count": 5,
     "metadata": {},
     "output_type": "execute_result"
    }
   ],
   "source": [
    "# Import required libraries\n",
    "import nltk\n",
    "from nltk.tokenize import word_tokenize\n",
    "\n",
    "# Download necessary NLTK data\n",
    "nltk.download('punkt_tab')\n"
   ]
  },
  {
   "cell_type": "markdown",
   "id": "f1e30081-08f0-422d-ab5d-b8834cf671f3",
   "metadata": {},
   "source": [
    "## Tokenizing a Sample Text\n",
    "The following code tokenizes a simple input text into individual words or tokens."
   ]
  },
  {
   "cell_type": "code",
   "execution_count": 7,
   "id": "81f77043-179d-4022-a196-595dbe9d2402",
   "metadata": {},
   "outputs": [
    {
     "name": "stdout",
     "output_type": "stream",
     "text": [
      "Tokens: ['I', 'love', 'NLP', '!']\n"
     ]
    }
   ],
   "source": [
    "# Input data\n",
    "text = \"I love NLP!\"\n",
    "\n",
    "# Tokenize the text\n",
    "tokens = word_tokenize(text)\n",
    "\n",
    "# Display the tokens\n",
    "print(\"Tokens:\", tokens)"
   ]
  },
  {
   "cell_type": "markdown",
   "id": "9dc808f4-0ce9-4896-8305-33d195a0afba",
   "metadata": {},
   "source": [
    "## Tokenizing a Complex Text\n",
    "This section tokenizes a text with punctuation and special characters to show NLTK's capabilities."
   ]
  },
  {
   "cell_type": "code",
   "execution_count": 9,
   "id": "b79d6a86-596b-4576-8585-d7779f00f60b",
   "metadata": {},
   "outputs": [
    {
     "name": "stdout",
     "output_type": "stream",
     "text": [
      "Complex Tokens: ['NLP', 'is', 'amazing', ',', 'is', \"n't\", 'it', '?', 'Let', \"'s\", 'learn', 'more', '!']\n"
     ]
    }
   ],
   "source": [
    "# Input complex text\n",
    "complex_text = \"NLP is amazing, isn't it? Let's learn more!\"\n",
    "\n",
    "# Tokenize the text\n",
    "complex_tokens = word_tokenize(complex_text)\n",
    "\n",
    "# Display the tokens\n",
    "print(\"Complex Tokens:\", complex_tokens)"
   ]
  },
  {
   "cell_type": "markdown",
   "id": "9989f0e6-df09-4d97-bdd2-99981bac6059",
   "metadata": {},
   "source": [
    "## Conclusion\n",
    "This notebook successfully tokenized sample texts using NLTK. The next steps include applying tokenization to larger datasets or combining it with other NLP tasks like sentiment analysis."
   ]
  }
 ],
 "metadata": {
  "kernelspec": {
   "display_name": "Python [conda env:base] *",
   "language": "python",
   "name": "conda-base-py"
  },
  "language_info": {
   "codemirror_mode": {
    "name": "ipython",
    "version": 3
   },
   "file_extension": ".py",
   "mimetype": "text/x-python",
   "name": "python",
   "nbconvert_exporter": "python",
   "pygments_lexer": "ipython3",
   "version": "3.11.4"
  }
 },
 "nbformat": 4,
 "nbformat_minor": 5
}
